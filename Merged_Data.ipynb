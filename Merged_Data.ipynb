{
  "nbformat": 4,
  "nbformat_minor": 0,
  "metadata": {
    "colab": {
      "provenance": [],
      "authorship_tag": "ABX9TyMzfCcyTGtoS3FYdyPkYUV6",
      "include_colab_link": true
    },
    "kernelspec": {
      "name": "python3",
      "display_name": "Python 3"
    },
    "language_info": {
      "name": "python"
    }
  },
  "cells": [
    {
      "cell_type": "markdown",
      "metadata": {
        "id": "view-in-github",
        "colab_type": "text"
      },
      "source": [
        "<a href=\"https://colab.research.google.com/github/alavalah/Task-Crime-Forecasting/blob/main/Merged_Data.ipynb\" target=\"_parent\"><img src=\"https://colab.research.google.com/assets/colab-badge.svg\" alt=\"Open In Colab\"/></a>"
      ]
    },
    {
      "cell_type": "code",
      "source": [
        "# prompt: i want to merge all the excel sheets into one excel sheet\n",
        "\n",
        "import pandas as pd\n",
        "import glob\n",
        "\n",
        "# Get all Excel files in the current directory\n",
        "excel_files = glob.glob(\"*.xlsx\")\n",
        "\n",
        "# Create an empty list to store dataframes\n",
        "dfs = []\n",
        "\n",
        "# Loop through each Excel file\n",
        "for file in excel_files:\n",
        "    try:\n",
        "        # Read the Excel file into a dataframe\n",
        "        df = pd.read_excel(file)\n",
        "        # Append the dataframe to the list\n",
        "        dfs.append(df)\n",
        "    except Exception as e:\n",
        "        print(f\"Error reading file {file}: {e}\")\n",
        "\n",
        "# Concatenate all dataframes into a single dataframe\n",
        "if dfs:\n",
        "    merged_df = pd.concat(dfs, ignore_index=True)\n",
        "\n",
        "    # Save the merged dataframe to a new Excel file\n",
        "    merged_df.to_excel(\"merged_sheet.xlsx\", index=False)\n",
        "    print(\"Sheets have been merged and saved to 'merged_sheet.xlsx'.\")\n",
        "else:\n",
        "    print(\"No Excel files found or all files resulted in errors.\")"
      ],
      "metadata": {
        "colab": {
          "base_uri": "https://localhost:8080/"
        },
        "id": "TYrO36EiZNlx",
        "outputId": "a679b18b-3482-45df-e7aa-a01ef5e7197f"
      },
      "execution_count": 2,
      "outputs": [
        {
          "output_type": "stream",
          "name": "stdout",
          "text": [
            "Sheets have been merged and saved to 'merged_sheet.xlsx'.\n"
          ]
        }
      ]
    }
  ]
}