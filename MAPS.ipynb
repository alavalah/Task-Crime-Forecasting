{
  "nbformat": 4,
  "nbformat_minor": 0,
  "metadata": {
    "colab": {
      "provenance": [],
      "authorship_tag": "ABX9TyMcOmtm13I0VD74JHjwJJwa",
      "include_colab_link": true
    },
    "kernelspec": {
      "name": "python3",
      "display_name": "Python 3"
    },
    "language_info": {
      "name": "python"
    }
  },
  "cells": [
    {
      "cell_type": "markdown",
      "metadata": {
        "id": "view-in-github",
        "colab_type": "text"
      },
      "source": [
        "<a href=\"https://colab.research.google.com/github/alavalah/Task-Crime-Forecasting/blob/main/MAPS.ipynb\" target=\"_parent\"><img src=\"https://colab.research.google.com/assets/colab-badge.svg\" alt=\"Open In Colab\"/></a>"
      ]
    },
    {
      "cell_type": "code",
      "execution_count": 6,
      "metadata": {
        "colab": {
          "base_uri": "https://localhost:8080/"
        },
        "id": "4QnSy38Ptufo",
        "outputId": "49418eda-4201-44f7-c4d5-7a21c0bcd5da"
      },
      "outputs": [
        {
          "output_type": "stream",
          "name": "stdout",
          "text": [
            "Map has been generated and saved as 'crime_hotspots_map.html'.\n"
          ]
        }
      ],
      "source": [
        "import pandas as pd\n",
        "import folium\n",
        "from folium.plugins import MarkerCluster\n",
        "\n",
        "# Load the dataset\n",
        "df = pd.read_csv('cleaned_crime_data_with_census.csv')\n",
        "\n",
        "# Convert the 'occ_date' column to datetime format\n",
        "df['occ_date'] = pd.to_datetime(df['occ_date'])\n",
        "\n",
        "# Filter data for March-May 2017\n",
        "start_date = '2017-03-01'\n",
        "end_date = '2017-05-31'\n",
        "mask = (df['occ_date'] >= start_date) & (df['occ_date'] <= end_date)\n",
        "df_filtered = df.loc[mask]\n",
        "\n",
        "# Create a map centered around Portland\n",
        "map_center = [45.523064, -122.676483]\n",
        "crime_map = folium.Map(location=map_center, zoom_start=12)\n",
        "\n",
        "# Add a marker cluster to the map\n",
        "marker_cluster = MarkerCluster().add_to(crime_map)\n",
        "\n",
        "# Add markers to the map\n",
        "for idx, row in df_filtered.iterrows():\n",
        "    folium.Marker(\n",
        "        location=[row['y_coordinate'], row['x_coordinate']],\n",
        "        popup=row['CATEGORY'],\n",
        "        icon=folium.Icon(color='red', icon='info-sign')\n",
        "    ).add_to(marker_cluster)\n",
        "\n",
        "# Save the map to an HTML file\n",
        "crime_map.save('crime_hotspots_map.html')\n",
        "\n",
        "print(\"Map has been generated and saved as 'crime_hotspots_map.html'.\")"
      ]
    },
    {
      "cell_type": "code",
      "source": [
        "import pandas as pd\n",
        "import folium\n",
        "from folium.plugins import HeatMap\n",
        "\n",
        "# Load the dataset\n",
        "df = pd.read_csv('cleaned_crime_data_with_census.csv')\n",
        "\n",
        "# Convert the 'occ_date' column to datetime format\n",
        "df['occ_date'] = pd.to_datetime(df['occ_date'])\n",
        "\n",
        "# Filter data for March-May 2017\n",
        "start_date = '2017-03-01'\n",
        "end_date = '2017-05-31'\n",
        "mask = (df['occ_date'] >= start_date) & (df['occ_date'] <= end_date)\n",
        "df_filtered = df.loc[mask]\n",
        "\n",
        "# Create a map centered around Portland\n",
        "map_center = [45.523064, -122.676483]\n",
        "crime_map = folium.Map(location=map_center, zoom_start=12)\n",
        "\n",
        "# Prepare data for heatmap\n",
        "heat_data = [[row['y_coordinate'], row['x_coordinate']] for index, row in df_filtered.iterrows()]\n",
        "\n",
        "# Add heatmap to the map\n",
        "HeatMap(heat_data, radius=15).add_to(crime_map)\n",
        "\n",
        "# Save the map to an HTML file\n",
        "crime_map.save('crime_hotspots_heatmap.html')\n",
        "\n",
        "print(\"Heatmap has been generated and saved as 'crime_hotspots_heatmap.html'.\")"
      ],
      "metadata": {
        "colab": {
          "base_uri": "https://localhost:8080/"
        },
        "id": "NK_84uNQuAxe",
        "outputId": "d57c131d-5b95-403a-9c4e-57a5daf97f33"
      },
      "execution_count": 2,
      "outputs": [
        {
          "output_type": "stream",
          "name": "stdout",
          "text": [
            "Heatmap has been generated and saved as 'crime_hotspots_heatmap.html'.\n"
          ]
        }
      ]
    },
    {
      "cell_type": "code",
      "source": [
        "import pandas as pd\n",
        "import folium\n",
        "import geopandas as gpd\n",
        "from shapely.geometry import Polygon\n",
        "\n",
        "# Load the dataset\n",
        "df = pd.read_csv('cleaned_crime_data_with_census.csv')\n",
        "\n",
        "# Convert the 'occ_date' column to datetime format\n",
        "df['occ_date'] = pd.to_datetime(df['occ_date'])\n",
        "\n",
        "# Filter data for March-May 2017\n",
        "start_date = '2017-03-01'\n",
        "end_date = '2017-05-31'\n",
        "mask = (df['occ_date'] >= start_date) & (df['occ_date'] <= end_date)\n",
        "df_filtered = df.loc[mask]\n",
        "\n",
        "# Define the grid size and cell size\n",
        "cell_size = 250  # in feet\n",
        "grid_width = 331\n",
        "grid_height = 390\n",
        "\n",
        "# Convert cell size from feet to degrees (approximation)\n",
        "cell_size_deg = cell_size / 364000.0\n",
        "\n",
        "# Create a grid of polygons (fishnet)\n",
        "min_x, min_y, max_x, max_y = -122.8, 45.4, -122.5, 45.6  # Approximate bounding box for Portland\n",
        "x_coords = [min_x + i * cell_size_deg for i in range(grid_width)]\n",
        "y_coords = [min_y + i * cell_size_deg for i in range(grid_height)]\n",
        "\n",
        "polygons = []\n",
        "for x in x_coords:\n",
        "    for y in y_coords:\n",
        "        polygons.append(Polygon([(x, y), (x + cell_size_deg, y), (x + cell_size_deg, y + cell_size_deg), (x, y + cell_size_deg)]))\n",
        "\n",
        "grid = gpd.GeoDataFrame({'geometry': polygons})\n",
        "\n",
        "# Create a map centered around Portland\n",
        "map_center = [45.523064, -122.676483]\n",
        "crime_map = folium.Map(location=map_center, zoom_start=12)\n",
        "\n",
        "# Add the grid to the map\n",
        "for _, row in grid.iterrows():\n",
        "    folium.GeoJson(row['geometry']).add_to(crime_map)\n",
        "\n",
        "# Add crime data points to the map\n",
        "for idx, row in df_filtered.iterrows():\n",
        "    folium.CircleMarker(\n",
        "        location=[row['y_coordinate'], row['x_coordinate']],\n",
        "        radius=3,\n",
        "        color='red',\n",
        "        fill=True,\n",
        "        fill_color='red'\n",
        "    ).add_to(crime_map)\n",
        "\n",
        "# Save the map to an HTML file\n",
        "crime_map.save('crime_hotspots_grid_map.html')\n",
        "\n",
        "print(\"Grid map has been generated and saved as 'crime_hotspots_grid_map.html'.\")"
      ],
      "metadata": {
        "colab": {
          "base_uri": "https://localhost:8080/"
        },
        "id": "G5bhhjHpuMGu",
        "outputId": "4878701e-df48-4b66-e7e0-2b59359f5dc3"
      },
      "execution_count": 3,
      "outputs": [
        {
          "output_type": "stream",
          "name": "stdout",
          "text": [
            "Grid map has been generated and saved as 'crime_hotspots_grid_map.html'.\n"
          ]
        }
      ]
    },
    {
      "cell_type": "code",
      "source": [
        "import pandas as pd\n",
        "import folium\n",
        "import geopandas as gpd\n",
        "from shapely.geometry import Polygon\n",
        "\n",
        "# Load the dataset\n",
        "df = pd.read_csv('cleaned_crime_data_with_census.csv')\n",
        "\n",
        "# Convert the 'occ_date' column to datetime format\n",
        "df['occ_date'] = pd.to_datetime(df['occ_date'])\n",
        "\n",
        "# Filter data for March-May 2017\n",
        "start_date = '2017-03-01'\n",
        "end_date = '2017-05-31'\n",
        "mask = (df['occ_date'] >= start_date) & (df['occ_date'] <= end_date)\n",
        "df_filtered = df.loc[mask]\n",
        "\n",
        "# Define the grid size and cell size\n",
        "cell_size = 600  # in feet\n",
        "grid_width = 138\n",
        "grid_height = 163\n",
        "\n",
        "# Convert cell size from feet to degrees (approximation)\n",
        "cell_size_deg = cell_size / 364000.0\n",
        "\n",
        "# Create a grid of polygons (fishnet)\n",
        "min_x, min_y, max_x, max_y = -122.8, 45.4, -122.5, 45.6  # Approximate bounding box for Portland\n",
        "x_coords = [min_x + i * cell_size_deg for i in range(grid_width)]\n",
        "y_coords = [min_y + i * cell_size_deg for i in range(grid_height)]\n",
        "\n",
        "polygons = []\n",
        "for x in x_coords:\n",
        "    for y in y_coords:\n",
        "        polygons.append(Polygon([(x, y), (x + cell_size_deg, y), (x + cell_size_deg, y + cell_size_deg), (x, y + cell_size_deg)]))\n",
        "\n",
        "grid = gpd.GeoDataFrame({'geometry': polygons})\n",
        "\n",
        "# Create a map centered around Portland\n",
        "map_center = [45.523064, -122.676483]\n",
        "crime_map = folium.Map(location=map_center, zoom_start=12)\n",
        "\n",
        "# Add the grid to the map\n",
        "for _, row in grid.iterrows():\n",
        "    folium.GeoJson(row['geometry']).add_to(crime_map)\n",
        "\n",
        "# Add crime data points to the map\n",
        "for idx, row in df_filtered.iterrows():\n",
        "    folium.CircleMarker(\n",
        "        location=[row['y_coordinate'], row['x_coordinate']],\n",
        "        radius=3,\n",
        "        color='red',\n",
        "        fill=True,\n",
        "        fill_color='red'\n",
        "    ).add_to(crime_map)\n",
        "\n",
        "# Save the map to an HTML file\n",
        "crime_map.save('crime_hotspots_grid_map.html')\n",
        "\n",
        "print(\"Grid map has been generated and saved as 'crime_hotspots_grid_map2.html'.\")"
      ],
      "metadata": {
        "colab": {
          "base_uri": "https://localhost:8080/"
        },
        "id": "d4HcqHuqvTTA",
        "outputId": "8c657ea8-1e3f-4c92-bf1e-a8ceec6877fe"
      },
      "execution_count": 4,
      "outputs": [
        {
          "output_type": "stream",
          "name": "stdout",
          "text": [
            "Grid map has been generated and saved as 'crime_hotspots_grid_map2.html'.\n"
          ]
        }
      ]
    },
    {
      "cell_type": "code",
      "source": [
        "import pandas as pd\n",
        "\n",
        "# Load the dataset\n",
        "df = pd.read_csv('cleaned_crime_data_with_census.csv')\n",
        "\n",
        "# Convert the 'occ_date' column to datetime format\n",
        "df['occ_date'] = pd.to_datetime(df['occ_date'])\n",
        "\n",
        "# Filter data for the first week of 2013 and for burglary cases\n",
        "start_date = '2013-01-01'\n",
        "end_date = '2013-01-07'\n",
        "mask = (df['occ_date'] >= start_date) & (df['occ_date'] <= end_date) & (df['CATEGORY'] == 'BURGLARY')\n",
        "df_filtered = df.loc[mask]\n",
        "\n",
        "# Display the filtered data\n",
        "print(df_filtered.head())\n",
        "\n",
        "# Analyze features related to burglary in the first week of 2013\n",
        "# Select only numeric features for correlation analysis\n",
        "numerical_features = df_filtered.select_dtypes(include=['number'])\n",
        "correlation_matrix = numerical_features.corr()  # Calculate correlation for numeric columns only\n",
        "print(correlation_matrix)\n",
        "\n",
        "# Identify strongly related features\n",
        "# Ensure you're comparing against a numeric column, for example 'x_coordinate'\n",
        "strong_features = correlation_matrix.index[correlation_matrix['x_coordinate'].abs() > 0.5].tolist()\n",
        "print(\"Strongly related features to burglary in the first week of 2013:\", strong_features)"
      ],
      "metadata": {
        "colab": {
          "base_uri": "https://localhost:8080/"
        },
        "id": "bovTv-BsvwgV",
        "outputId": "b21c1e40-77c6-49fb-fe73-35f81638e376"
      },
      "execution_count": 5,
      "outputs": [
        {
          "output_type": "stream",
          "name": "stdout",
          "text": [
            "        CATEGORY  CALL GROUPS final_case_type  \\\n",
            "315815  BURGLARY   SUSPICIOUS          PROWLP   \n",
            "315816  BURGLARY   SUSPICIOUS          PROWLP   \n",
            "315817  BURGLARY   SUSPICIOUS          PROWLP   \n",
            "315858  BURGLARY   SUSPICIOUS          PROWLP   \n",
            "315859  BURGLARY   SUSPICIOUS          PROWLP   \n",
            "\n",
            "                                                CASE DESC   occ_date  \\\n",
            "315815  PROWLER                                       ... 2013-01-01   \n",
            "315816  PROWLER                                       ... 2013-01-03   \n",
            "315817  PROWLER                                       ... 2013-01-05   \n",
            "315858  PROWLER                                       ... 2013-01-01   \n",
            "315859  PROWLER                                       ... 2013-01-01   \n",
            "\n",
            "        x_coordinate  y_coordinate  census_tract  \n",
            "315815       7661766        692297        2801.0  \n",
            "315816       7675756        676340        8302.0  \n",
            "315817       7689608        675641        9101.0  \n",
            "315858       7663316        662300        8800.0  \n",
            "315859       7679697        692418        7900.0  \n",
            "              x_coordinate  y_coordinate  census_tract\n",
            "x_coordinate      1.000000     -0.517767      0.399851\n",
            "y_coordinate     -0.517767      1.000000     -0.233582\n",
            "census_tract      0.399851     -0.233582      1.000000\n",
            "Strongly related features to burglary in the first week of 2013: ['x_coordinate', 'y_coordinate']\n"
          ]
        }
      ]
    }
  ]
}